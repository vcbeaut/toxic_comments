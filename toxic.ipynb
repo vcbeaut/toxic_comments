{
 "cells": [
  {
   "cell_type": "code",
   "execution_count": null,
   "metadata": {
    "_cell_guid": "b1076dfc-b9ad-4769-8c92-a6c4dae69d19",
    "_uuid": "8f2839f25d086af736a60e9eeb907d3b93b6e0e5"
   },
   "outputs": [],
   "source": [
    "# This Python 3 environment comes with many helpful analytics libraries installed\n",
    "# It is defined by the kaggle/python docker image: https://github.com/kaggle/docker-python\n",
    "# For example, here's several helpful packages to load in \n",
    "\n",
    "import numpy as np # linear algebra\n",
    "import pandas as pd # data processing, CSV file I/O (e.g. pd.read_csv)\n",
    "\n",
    "# Input data files are available in the \"../input/\" directory.\n",
    "# For example, running this (by clicking run or pressing Shift+Enter) will list all files under the input directory\n",
    "\n",
    "import os\n",
    "for dirname, _, filenames in os.walk('/kaggle/input'):\n",
    "    for filename in filenames:\n",
    "        print(os.path.join(dirname, filename))\n",
    "\n",
    "# Any results you write to the current directory are saved as output."
   ]
  },
  {
   "cell_type": "code",
   "execution_count": null,
   "metadata": {
    "_cell_guid": "79c7e3d0-c299-4dcb-8224-4455121ee9b0",
    "_uuid": "d629ff2d2480ee46fbb7e2d37f6b5fab8052498a",
    "collapsed": true
   },
   "outputs": [],
   "source": []
  },
  {
   "cell_type": "code",
   "execution_count": null,
   "metadata": {
    "_cell_guid": "",
    "_uuid": ""
   },
   "outputs": [],
   "source": [
    "import pandas as pd\n",
    "toxic_comments = pd.read_csv(\"../input/toxic_comments.csv\")"
   ]
  },
  {
   "cell_type": "code",
   "execution_count": null,
   "metadata": {},
   "outputs": [],
   "source": [
    "import torch\n",
    "import torch.nn as nn\n",
    "import torch.optim as optim\n",
    "import torch.nn.functional as F"
   ]
  },
  {
   "cell_type": "code",
   "execution_count": null,
   "metadata": {},
   "outputs": [],
   "source": [
    "from collections import Counter\n",
    "import random\n",
    "import numpy as np"
   ]
  },
  {
   "cell_type": "code",
   "execution_count": null,
   "metadata": {},
   "outputs": [],
   "source": [
    "USE_CUDA = torch.cuda.is_available()\n",
    "DEVICE = torch.device('cuda' if USE_CUDA else 'cpu')"
   ]
  },
  {
   "cell_type": "markdown",
   "metadata": {},
   "source": [
    "- 多个linear，所以label是个列表\n",
    "- X shape is 2-dimensions, label shpe is 3-dimensions"
   ]
  },
  {
   "cell_type": "code",
   "execution_count": null,
   "metadata": {},
   "outputs": [],
   "source": [
    "def read_corpus(path):\n",
    "    toxic_comments = pd.read_csv(path)\n",
    "    sentences = []\n",
    "    labels = []\n",
    "    for idx, line in toxic_comments.iterrows():\n",
    "        sentences.append(line['comment_text'].strip().lower().split())\n",
    "        labels.append([line['toxic'], line['severe_toxic'], line['obscene'], line['threat'], line['insult'], line['identity_hate']])\n",
    "    return sentences, labels"
   ]
  },
  {
   "cell_type": "code",
   "execution_count": null,
   "metadata": {},
   "outputs": [],
   "source": [
    "toxic_comments_path = \"../input/toxic_comments.csv\"\n",
    "sentences, labels = read_corpus(toxic_comments_path)"
   ]
  },
  {
   "cell_type": "code",
   "execution_count": null,
   "metadata": {},
   "outputs": [],
   "source": [
    "train_sentences = sentences[: round(2/8 * len(sentences))]\n",
    "test_sentences = sentences[round(2/8 * len(sentences)):]\n",
    "train_labels = labels[: round(2/8 * len(labels))]\n",
    "test_labels = labels[round(2/8 * len(labels)):]"
   ]
  },
  {
   "cell_type": "code",
   "execution_count": null,
   "metadata": {},
   "outputs": [],
   "source": [
    "print(train_sentences[0])"
   ]
  },
  {
   "cell_type": "code",
   "execution_count": null,
   "metadata": {},
   "outputs": [],
   "source": [
    "def build_vocab(sentences, word_size=20000):\n",
    "    c = Counter()\n",
    "    for sentence in sentences:\n",
    "        for word in sentence:\n",
    "            c[word] += 1\n",
    "    print('the number of all words is: ', len(c))\n",
    "    words_most_common = c.most_common(word_size)\n",
    "    idx2word = ['<pad>', '<unk>'] + [item[0] for item in words_most_common]\n",
    "    word2idx = {w:i for i, w in enumerate(idx2word)}\n",
    "    \n",
    "    return word2idx, idx2word"
   ]
  },
  {
   "cell_type": "code",
   "execution_count": null,
   "metadata": {},
   "outputs": [],
   "source": [
    "WORD_SIZE = 20000\n",
    "word2idx, idx2word = build_vocab(train_sentences, word_size=WORD_SIZE)"
   ]
  },
  {
   "cell_type": "code",
   "execution_count": null,
   "metadata": {},
   "outputs": [],
   "source": [
    "def numeralization(sentences, labels, word2idx):\n",
    "    numeral_sent = [[word2idx.get(w, word2idx['<unk>']) for w in sent] for sent in sentences]\n",
    "    return list(zip(numeral_sent, labels))"
   ]
  },
  {
   "cell_type": "code",
   "execution_count": null,
   "metadata": {},
   "outputs": [],
   "source": [
    "numeral_train_data = numeralization(train_sentences, train_labels, word2idx)\n",
    "numeral_test_data = numeralization(test_sentences, test_labels, word2idx)"
   ]
  },
  {
   "cell_type": "code",
   "execution_count": null,
   "metadata": {},
   "outputs": [],
   "source": [
    "print(numeral_train_data[0])"
   ]
  },
  {
   "cell_type": "markdown",
   "metadata": {},
   "source": [
    "# the batch transfrom2tensor"
   ]
  },
  {
   "cell_type": "code",
   "execution_count": null,
   "metadata": {},
   "outputs": [],
   "source": [
    "def transform2tensor(batch_sentences):\n",
    "    lengths = [len(s) for s in batch_sentences]\n",
    "    max_len = max(lengths)\n",
    "    batch_size = len(batch_sentences)\n",
    "    batch = torch.zeros(batch_size, max_len, dtype=torch.long)\n",
    "    for i, length in enumerate(lengths):\n",
    "        batch[i, :length] = torch.tensor(batch_sentences[i])\n",
    "    \n",
    "    return batch"
   ]
  },
  {
   "cell_type": "code",
   "execution_count": null,
   "metadata": {},
   "outputs": [],
   "source": [
    "def generate_batch(numeral_sentences_labels, batch_size=32):\n",
    "    batchs = []\n",
    "    num_sample = len(numeral_sentences_labels)\n",
    "    random.shuffle(numeral_sentences_labels)\n",
    "    numeral_sent = [n[0] for n in numeral_sentences_labels]\n",
    "    numeral_lab = [n[1] for n in numeral_sentences_labels]\n",
    "    for start in range(0, num_sample, batch_size):\n",
    "        end = start + batch_size\n",
    "        if end > num_sample:\n",
    "            # last batch\n",
    "            batch_sentences = numeral_sent[start: num_sample]\n",
    "            batch_labels = numeral_lab[start: num_sample]\n",
    "            batch_sent_tensor = transform2tensor(batch_sentences)\n",
    "            batch_lab_tensor = torch.tensor(batch_labels)\n",
    "        else:\n",
    "            batch_sentences = numeral_sent[start: end]\n",
    "            batch_labels = numeral_lab[start: end]\n",
    "            batch_sent_tensor = transform2tensor(batch_sentences)\n",
    "            batch_lab_tensor = torch.tensor(batch_labels)\n",
    "        batchs.append((batch_sent_tensor, batch_lab_tensor))\n",
    "    return batchs"
   ]
  },
  {
   "cell_type": "code",
   "execution_count": null,
   "metadata": {},
   "outputs": [],
   "source": [
    "train_data = generate_batch(numeral_train_data)"
   ]
  },
  {
   "cell_type": "code",
   "execution_count": null,
   "metadata": {},
   "outputs": [],
   "source": [
    "train_data"
   ]
  },
  {
   "cell_type": "markdown",
   "metadata": {},
   "source": [
    "# build model"
   ]
  },
  {
   "cell_type": "code",
   "execution_count": null,
   "metadata": {},
   "outputs": [],
   "source": [
    "class ToxicModel(nn.Module):\n",
    "    def __init__(self, vocab_size, embed_dim, output_size, pad_idx):\n",
    "        super().__init__()\n",
    "        self.embedding = nn.Embedding(vocab_size, embed_dim, padding_idx=pad_idx)\n",
    "        self.linear0 = nn.Linear(embed_dim, output_size)\n",
    "        self.linear1 = nn.Linear(embed_dim, output_size)\n",
    "        self.linear2 = nn.Linear(embed_dim, output_size)\n",
    "        self.linear3 = nn.Linear(embed_dim, output_size)\n",
    "        self.linear4 = nn.Linear(embed_dim, output_size)\n",
    "        self.linear5 = nn.Linear(embed_dim, output_size)\n",
    "    \n",
    "    def forward(self, text, toxic_type):\n",
    "        # [batch_size, sent_len] -> [batch_size, sent_len, embed_dim]\n",
    "        embed = self.embedding(text)\n",
    "        # [batch_size, sent_len, embed_dim] -> [batch_size, embed_dim]\n",
    "        embed_pooled = F.avg_pool2d(embed, (embed.size(1), 1)).squeeze(1)\n",
    "        \n",
    "        if toxic_type == 0:\n",
    "            out = self.linear0(embed_pooled)\n",
    "        elif toxic_type == 1:\n",
    "            out = self.linear1(embed_pooled)\n",
    "        elif toxic_type == 2:\n",
    "            out = self.linear2(embed_pooled)\n",
    "        elif toxic_type == 3:\n",
    "            out = self.linear3(embed_pooled)\n",
    "        elif toxic_type == 4:\n",
    "            out = self.linear4(embed_pooled)\n",
    "        elif toxic_type == 5:\n",
    "            out = self.linear5(embed_pooled)\n",
    "        return out        "
   ]
  },
  {
   "cell_type": "code",
   "execution_count": null,
   "metadata": {},
   "outputs": [],
   "source": [
    "VOCAB_SIZE = len(word2idx)\n",
    "EMBEDDING_DIM = 100\n",
    "OUTPUT_SIZE = 1\n",
    "PAD_IDX = word2idx['<pad>']"
   ]
  },
  {
   "cell_type": "code",
   "execution_count": null,
   "metadata": {},
   "outputs": [],
   "source": [
    "model = ToxicModel(VOCAB_SIZE, EMBEDDING_DIM, OUTPUT_SIZE, PAD_IDX)"
   ]
  },
  {
   "cell_type": "code",
   "execution_count": null,
   "metadata": {},
   "outputs": [],
   "source": [
    "model"
   ]
  },
  {
   "cell_type": "markdown",
   "metadata": {},
   "source": [
    "# define criterion"
   ]
  },
  {
   "cell_type": "code",
   "execution_count": null,
   "metadata": {},
   "outputs": [],
   "source": [
    "criterion = nn.BCEWithLogitsLoss()\n",
    "model = model.to(DEVICE)\n",
    "criterion = criterion.to(DEVICE)\n",
    "optimizer = optim.Adam(model.parameters())"
   ]
  },
  {
   "cell_type": "code",
   "execution_count": null,
   "metadata": {},
   "outputs": [],
   "source": [
    "def get_accuracy(out, y):\n",
    "    # out, y : [batch_size, 6]\n",
    "#     out = [[torch.sigmoid(lable) for lable in labels] for labels in out]\n",
    "    y = y.cpu().numpy().astype(np.float)\n",
    "#     print('out is: ', out)\n",
    "#     print('y is: ', y)\n",
    "    \n",
    "    correct = np.array([out[idx].tolist() == y[idx].tolist() for idx in range(len(y))])\n",
    "#     print('correct is: ', correct)\n",
    "    acc = correct.sum() / len(correct)\n",
    "    return acc"
   ]
  },
  {
   "cell_type": "code",
   "execution_count": null,
   "metadata": {},
   "outputs": [],
   "source": [
    "BATCH_SIZE = 128\n",
    "def train(train_data, model, criterion, optimizer):\n",
    "    model.train()\n",
    "    \n",
    "     # using backward\n",
    "    num_epoch = epoch_loss = epoch_acc = 0\n",
    "    \n",
    "    for i, (text, label) in enumerate(train_data):\n",
    "        optimizer.zero_grad()\n",
    "        losses = []\n",
    "        outes = np.zeros([BATCH_SIZE, label.shape[1]], dtype=np.float)\n",
    "        if USE_CUDA:\n",
    "            text = text.cuda()\n",
    "            label = label.cuda()\n",
    "#         print(label)\n",
    "        for toxic_type in range(label.shape[1]):\n",
    "            \n",
    "            singel_label = label[:, toxic_type].unsqueeze(1)\n",
    "            out = model(text, toxic_type)\n",
    "            \n",
    "            loss = criterion(out, singel_label.float())\n",
    "\n",
    "            losses.append(loss)\n",
    "#             print(out)\n",
    "#             print('outes shape is:', out.shape)\n",
    "            \n",
    "            for idx, single_out in enumerate(out):\n",
    "                outes[idx][toxic_type] = torch.round(torch.sigmoid(single_out[0]))\n",
    "#         print(losses)\n",
    "        all_loss_value = sum(losses)\n",
    "        \n",
    "#         print(all_loss_value)\n",
    "        acc = get_accuracy(outes, label)\n",
    "        all_loss_value.backward()\n",
    "        optimizer.step()\n",
    "        num_epoch += 1\n",
    "        epoch_loss += all_loss_value.item()\n",
    "        epoch_acc += acc.item()\n",
    "\n",
    "        print('the {} iterator finished!'.format(i))\n",
    "    \n",
    "    return epoch_loss / num_epoch, epoch_acc / num_epoch\n",
    "            "
   ]
  },
  {
   "cell_type": "code",
   "execution_count": null,
   "metadata": {},
   "outputs": [],
   "source": [
    "NUM_EPOCHS = 5\n",
    "\n",
    "for epoch in range(NUM_EPOCHS):\n",
    "    train_data = generate_batch(numeral_train_data, BATCH_SIZE)\n",
    "    epoch_loss, epoch_acc = train(train_data, model, criterion, optimizer)\n",
    "    print('the epoch_loss is: {}, the epoch_acc is: {}'.format(epoch_loss, epoch_acc))"
   ]
  },
  {
   "cell_type": "code",
   "execution_count": null,
   "metadata": {},
   "outputs": [],
   "source": []
  }
 ],
 "metadata": {
  "kernelspec": {
   "display_name": "Python 3",
   "language": "python",
   "name": "python3"
  },
  "language_info": {
   "codemirror_mode": {
    "name": "ipython",
    "version": 3
   },
   "file_extension": ".py",
   "mimetype": "text/x-python",
   "name": "python",
   "nbconvert_exporter": "python",
   "pygments_lexer": "ipython3",
   "version": "3.7.3"
  }
 },
 "nbformat": 4,
 "nbformat_minor": 4
}
